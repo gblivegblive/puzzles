{
 "cells": [
  {
   "cell_type": "markdown",
   "metadata": {},
   "source": [
    "# Monopoly - probability of hitting a particular space after N cycles\n",
    "\n",
    "\n",
    "_The game of monopoly is played on a square board with 10 spaces per side (so 40 in total). A player starts at the space marked \"go\" and on each turn rolls two sided dice, advancing forward a number of spaces equal to the sum of the two numbers that lands face up. (if a player rolls a sum that would normally cause them to advance past the 40th square, they will instead loop around, so if a player landed on a hypothetical 44th square, they will instead go to the 4th square on the board). What is the probability that a player after they \"loop around\" the board 9 times, lands on the space \"Boardwalk\" (the 40th square) before they \"loop around\" the board an eleventh time?_"
   ]
  },
  {
   "cell_type": "markdown",
   "metadata": {},
   "source": [
    "It's easy to calculate probability of moving 1, 2, ..., 12 spaces forward. However, it's not quite obvious how to calculate the probability of hitting space 40 after 9 trips around the board. We could rephrase it as - starting from 0, keep throwing two dice and adding the score. What is the probability of the sum being exactly 400 at some point? "
   ]
  },
  {
   "cell_type": "markdown",
   "metadata": {},
   "source": [
    "# Quick check - Monte Carlo"
   ]
  },
  {
   "cell_type": "code",
   "execution_count": 7,
   "metadata": {},
   "outputs": [
    {
     "name": "stdout",
     "output_type": "stream",
     "text": [
      "0.1416\n"
     ]
    }
   ],
   "source": [
    "import numpy\n",
    "\n",
    "\n",
    "results = []\n",
    "for i in range(5000):\n",
    "    total_sum = 0\n",
    "    while (total_sum < 400):\n",
    "        dice1 = numpy.random.choice([1, 2, 3, 4, 5, 6])\n",
    "        dice2 = numpy.random.choice([1, 2, 3, 4, 5, 6])\n",
    "        total_sum += dice1 + dice2\n",
    "    if total_sum == 400:\n",
    "        results.append(1)\n",
    "    else:\n",
    "        results.append(0)\n",
    "\n",
    "print(numpy.mean(results))"
   ]
  },
  {
   "cell_type": "markdown",
   "metadata": {},
   "source": [
    "This number seem to be close $1 / E(d_1 + d_2) = 1 / 7 = 0.142857143$ - how can we get there?"
   ]
  },
  {
   "cell_type": "markdown",
   "metadata": {},
   "source": [
    "# Markov chain with absorbing final states\n",
    "\n",
    "A more accurate way to model this is by using a Markov chain. Let's have a chain with 401 states. States from 0 to 399 model progression from some state of the board to the next 12 states. Probabilities are as follows:\n",
    "```\n",
    "Roll a… \tProbability\n",
    "1             0\n",
    "2 \t        1/36 (2.778%)\n",
    "3 \t        2/36 (5.556%)\n",
    "4 \t        3/36 (8.333%)\n",
    "5 \t        4/36 (11.111%)\n",
    "6 \t        5/36 (13.889%)\n",
    "7 \t        6/36 (16.667%)\n",
    "8 \t        5/36 (13.889%)\n",
    "9 \t        4/36 (11.111%)\n",
    "10 \t       3/36 (8.333%)\n",
    "11 \t       2/36 (5.556%)\n",
    "12 \t       1/36 (2.778%)\n",
    "```"
   ]
  },
  {
   "cell_type": "markdown",
   "metadata": {},
   "source": [
    "With this in hand we build the transition matrix as follows:"
   ]
  },
  {
   "cell_type": "code",
   "execution_count": 19,
   "metadata": {},
   "outputs": [],
   "source": [
    "# two zeros because the first element is P(staying in the same state)\n",
    "P = numpy.r_[[0, 0, 1./36, 2/36, 3/36, 4/36, 5/36, 6/36, 5/36, 4/36, 3/36, 2/36, 1/36], numpy.zeros(388)]\n",
    "T = []\n",
    "\n",
    "for i in range(0, 401):\n",
    "    T.append(numpy.roll(P, i))\n",
    "\n",
    "T = numpy.array(T)\n",
    "\n",
    "# now special arrangements for last rows\n",
    "# we make states 400 and 401 absorbing - they have P(staying in the state) = 1\n",
    "T[-2] = numpy.r_[numpy.zeros(399), [1, 0]]\n",
    "T[-1] = numpy.r_[numpy.zeros(400), 1]\n",
    "\n",
    "# when we do roll, non-zero probabilities start wrapping over back to states 0,1,etc - but we instead want them\n",
    "# to accummulate in 401 (modelling \"overshoot\") \n",
    "for i in range(-12, -2):\n",
    "    T[i, -1] += sum(T[i, :12])\n",
    "    T[i, :12] = 0"
   ]
  },
  {
   "cell_type": "markdown",
   "metadata": {},
   "source": [
    "Now to calculate probability of moving from state $i$ to state $j$ in $n$ steps, we just need to calculate $T^n$ and look at $T_{ij}$. Let's check this - after 5 steps we can be in state 5 * 12 = 60 (with a very low probability = $(1/36)^{5}$) but no further"
   ]
  },
  {
   "cell_type": "code",
   "execution_count": 22,
   "metadata": {},
   "outputs": [
    {
     "name": "stdout",
     "output_type": "stream",
     "text": [
      "1.6538171687920198e-08 0.0\n"
     ]
    }
   ],
   "source": [
    "T5 = numpy.linalg.matrix_power(T, 5)\n",
    "print(T5[0, 60],  T5[0,61])"
   ]
  },
  {
   "cell_type": "markdown",
   "metadata": {},
   "source": [
    "Now a twist - because we have modelled states 400 and 401 as \"absorbing states\", we can just raise the matrix to the power of at least 200, so that we definitely reach either 400 (200 * 2) or more."
   ]
  },
  {
   "cell_type": "code",
   "execution_count": 23,
   "metadata": {},
   "outputs": [],
   "source": [
    "T200 = numpy.linalg.matrix_power(T, 210)"
   ]
  },
  {
   "cell_type": "code",
   "execution_count": 25,
   "metadata": {},
   "outputs": [
    {
     "data": {
      "text/plain": [
       "array([0.        , 0.        , 0.        , 0.        , 0.        ,\n",
       "       0.        , 0.        , 0.        , 0.        , 0.        ,\n",
       "       0.        , 0.        , 0.        , 0.        , 0.        ,\n",
       "       0.        , 0.        , 0.        , 0.        , 0.        ,\n",
       "       0.        , 0.        , 0.        , 0.        , 0.        ,\n",
       "       0.        , 0.        , 0.        , 0.        , 0.        ,\n",
       "       0.        , 0.        , 0.        , 0.        , 0.        ,\n",
       "       0.        , 0.        , 0.        , 0.        , 0.        ,\n",
       "       0.        , 0.        , 0.        , 0.        , 0.        ,\n",
       "       0.        , 0.        , 0.        , 0.        , 0.        ,\n",
       "       0.        , 0.        , 0.        , 0.        , 0.        ,\n",
       "       0.        , 0.        , 0.        , 0.        , 0.        ,\n",
       "       0.        , 0.        , 0.        , 0.        , 0.        ,\n",
       "       0.        , 0.        , 0.        , 0.        , 0.        ,\n",
       "       0.        , 0.        , 0.        , 0.        , 0.        ,\n",
       "       0.        , 0.        , 0.        , 0.        , 0.        ,\n",
       "       0.        , 0.        , 0.        , 0.        , 0.        ,\n",
       "       0.        , 0.        , 0.        , 0.        , 0.        ,\n",
       "       0.        , 0.        , 0.        , 0.        , 0.        ,\n",
       "       0.        , 0.        , 0.        , 0.        , 0.        ,\n",
       "       0.        , 0.        , 0.        , 0.        , 0.        ,\n",
       "       0.        , 0.        , 0.        , 0.        , 0.        ,\n",
       "       0.        , 0.        , 0.        , 0.        , 0.        ,\n",
       "       0.        , 0.        , 0.        , 0.        , 0.        ,\n",
       "       0.        , 0.        , 0.        , 0.        , 0.        ,\n",
       "       0.        , 0.        , 0.        , 0.        , 0.        ,\n",
       "       0.        , 0.        , 0.        , 0.        , 0.        ,\n",
       "       0.        , 0.        , 0.        , 0.        , 0.        ,\n",
       "       0.        , 0.        , 0.        , 0.        , 0.        ,\n",
       "       0.        , 0.        , 0.        , 0.        , 0.        ,\n",
       "       0.        , 0.        , 0.        , 0.        , 0.        ,\n",
       "       0.        , 0.        , 0.        , 0.        , 0.        ,\n",
       "       0.        , 0.        , 0.        , 0.        , 0.        ,\n",
       "       0.        , 0.        , 0.        , 0.        , 0.        ,\n",
       "       0.        , 0.        , 0.        , 0.        , 0.        ,\n",
       "       0.        , 0.        , 0.        , 0.        , 0.        ,\n",
       "       0.        , 0.        , 0.        , 0.        , 0.        ,\n",
       "       0.        , 0.        , 0.        , 0.        , 0.        ,\n",
       "       0.        , 0.        , 0.        , 0.        , 0.        ,\n",
       "       0.        , 0.        , 0.        , 0.        , 0.        ,\n",
       "       0.        , 0.        , 0.        , 0.        , 0.        ,\n",
       "       0.        , 0.        , 0.        , 0.        , 0.        ,\n",
       "       0.        , 0.        , 0.        , 0.        , 0.        ,\n",
       "       0.        , 0.        , 0.        , 0.        , 0.        ,\n",
       "       0.        , 0.        , 0.        , 0.        , 0.        ,\n",
       "       0.        , 0.        , 0.        , 0.        , 0.        ,\n",
       "       0.        , 0.        , 0.        , 0.        , 0.        ,\n",
       "       0.        , 0.        , 0.        , 0.        , 0.        ,\n",
       "       0.        , 0.        , 0.        , 0.        , 0.        ,\n",
       "       0.        , 0.        , 0.        , 0.        , 0.        ,\n",
       "       0.        , 0.        , 0.        , 0.        , 0.        ,\n",
       "       0.        , 0.        , 0.        , 0.        , 0.        ,\n",
       "       0.        , 0.        , 0.        , 0.        , 0.        ,\n",
       "       0.        , 0.        , 0.        , 0.        , 0.        ,\n",
       "       0.        , 0.        , 0.        , 0.        , 0.        ,\n",
       "       0.        , 0.        , 0.        , 0.        , 0.        ,\n",
       "       0.        , 0.        , 0.        , 0.        , 0.        ,\n",
       "       0.        , 0.        , 0.        , 0.        , 0.        ,\n",
       "       0.        , 0.        , 0.        , 0.        , 0.        ,\n",
       "       0.        , 0.        , 0.        , 0.        , 0.        ,\n",
       "       0.        , 0.        , 0.        , 0.        , 0.        ,\n",
       "       0.        , 0.        , 0.        , 0.        , 0.        ,\n",
       "       0.        , 0.        , 0.        , 0.        , 0.        ,\n",
       "       0.        , 0.        , 0.        , 0.        , 0.        ,\n",
       "       0.        , 0.        , 0.        , 0.        , 0.        ,\n",
       "       0.        , 0.        , 0.        , 0.        , 0.        ,\n",
       "       0.        , 0.        , 0.        , 0.        , 0.        ,\n",
       "       0.        , 0.        , 0.        , 0.        , 0.        ,\n",
       "       0.        , 0.        , 0.        , 0.        , 0.        ,\n",
       "       0.        , 0.        , 0.        , 0.        , 0.        ,\n",
       "       0.        , 0.        , 0.        , 0.        , 0.        ,\n",
       "       0.        , 0.        , 0.        , 0.        , 0.        ,\n",
       "       0.        , 0.        , 0.        , 0.        , 0.        ,\n",
       "       0.        , 0.        , 0.        , 0.        , 0.        ,\n",
       "       0.        , 0.        , 0.        , 0.        , 0.        ,\n",
       "       0.        , 0.        , 0.        , 0.        , 0.        ,\n",
       "       0.        , 0.        , 0.        , 0.        , 0.        ,\n",
       "       0.        , 0.        , 0.        , 0.        , 0.        ,\n",
       "       0.        , 0.        , 0.        , 0.        , 0.        ,\n",
       "       0.        , 0.        , 0.        , 0.        , 0.14285714,\n",
       "       0.85714286])"
      ]
     },
     "execution_count": 25,
     "metadata": {},
     "output_type": "execute_result"
    }
   ],
   "source": [
    "T200[0]"
   ]
  },
  {
   "cell_type": "markdown",
   "metadata": {},
   "source": [
    "As expected probabilities in all spaces apart from 400 and 401 are zero. Note that $P(400) = 1/7$ as predicted by the monte carlo test. "
   ]
  },
  {
   "cell_type": "markdown",
   "metadata": {},
   "source": [
    "# Analytical proof?\n",
    "\n",
    "Markov model above in effect does the explicit calculation - it adds up probabilities along all paths of all possible lengths. Therefore, it constitutes a computational proof, however having a simpler one would be nicer. Why is it $1/E(d_1 + d_2)$ ?"
   ]
  },
  {
   "cell_type": "code",
   "execution_count": null,
   "metadata": {},
   "outputs": [],
   "source": []
  }
 ],
 "metadata": {
  "kernelspec": {
   "display_name": "Python 3",
   "language": "python",
   "name": "python3"
  },
  "language_info": {
   "codemirror_mode": {
    "name": "ipython",
    "version": 3
   },
   "file_extension": ".py",
   "mimetype": "text/x-python",
   "name": "python",
   "nbconvert_exporter": "python",
   "pygments_lexer": "ipython3",
   "version": "3.7.6"
  }
 },
 "nbformat": 4,
 "nbformat_minor": 4
}
